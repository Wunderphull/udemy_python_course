{
 "cells": [
  {
   "cell_type": "code",
   "execution_count": 17,
   "id": "00227581",
   "metadata": {},
   "outputs": [],
   "source": [
    "import numpy as np\n",
    "import pandas as pd\n",
    "\n",
    "from pandas import Series,DataFrame\n",
    "from numpy.random import randn"
   ]
  },
  {
   "cell_type": "code",
   "execution_count": 18,
   "id": "c2b960dc",
   "metadata": {},
   "outputs": [
    {
     "data": {
      "text/plain": [
       "C    0\n",
       "A    1\n",
       "B    2\n",
       "dtype: int64"
      ]
     },
     "execution_count": 18,
     "metadata": {},
     "output_type": "execute_result"
    }
   ],
   "source": [
    "ser1 = Series(range(3),index=['C','A','B'])\n",
    "\n",
    "ser1"
   ]
  },
  {
   "cell_type": "code",
   "execution_count": 19,
   "id": "09a73992",
   "metadata": {},
   "outputs": [
    {
     "data": {
      "text/plain": [
       "A    1\n",
       "B    2\n",
       "C    0\n",
       "dtype: int64"
      ]
     },
     "execution_count": 19,
     "metadata": {},
     "output_type": "execute_result"
    }
   ],
   "source": [
    "# sort_index\n",
    "\n",
    "ser1.sort_index()"
   ]
  },
  {
   "cell_type": "code",
   "execution_count": 20,
   "id": "8b518d5b",
   "metadata": {},
   "outputs": [
    {
     "data": {
      "text/plain": [
       "0    0.743267\n",
       "1    1.412687\n",
       "2   -0.696868\n",
       "3   -1.184014\n",
       "4    2.052591\n",
       "5   -0.534797\n",
       "6   -0.029955\n",
       "7    0.683937\n",
       "8   -1.820465\n",
       "9    0.169891\n",
       "dtype: float64"
      ]
     },
     "execution_count": 20,
     "metadata": {},
     "output_type": "execute_result"
    }
   ],
   "source": [
    "# Sort a Series by its values\n",
    "\n",
    "ser2 = Series(randn(10))\n",
    "\n",
    "ser2"
   ]
  },
  {
   "cell_type": "code",
   "execution_count": 23,
   "id": "72d481c1",
   "metadata": {},
   "outputs": [
    {
     "data": {
      "text/plain": [
       "0     8.0\n",
       "1     9.0\n",
       "2     3.0\n",
       "3     2.0\n",
       "4    10.0\n",
       "5     4.0\n",
       "6     5.0\n",
       "7     7.0\n",
       "8     1.0\n",
       "9     6.0\n",
       "dtype: float64"
      ]
     },
     "execution_count": 23,
     "metadata": {},
     "output_type": "execute_result"
    }
   ],
   "source": [
    "# Show the rank used if you sort the series\n",
    "\n",
    "ser2.rank()"
   ]
  },
  {
   "cell_type": "code",
   "execution_count": 43,
   "id": "6e0b4815",
   "metadata": {},
   "outputs": [],
   "source": [
    "ser2 = ser2.sort_values()"
   ]
  },
  {
   "cell_type": "code",
   "execution_count": 44,
   "id": "8be59342",
   "metadata": {},
   "outputs": [
    {
     "data": {
      "text/plain": [
       "8     1.0\n",
       "3     2.0\n",
       "2     3.0\n",
       "5     4.0\n",
       "6     5.0\n",
       "9     6.0\n",
       "7     7.0\n",
       "0     8.0\n",
       "1     9.0\n",
       "4    10.0\n",
       "dtype: float64"
      ]
     },
     "execution_count": 44,
     "metadata": {},
     "output_type": "execute_result"
    }
   ],
   "source": [
    "ser2.rank()"
   ]
  },
  {
   "cell_type": "code",
   "execution_count": 46,
   "id": "716dcdb7",
   "metadata": {},
   "outputs": [],
   "source": [
    "# On the left column we see th original index value and on the right we see it's rank!"
   ]
  },
  {
   "cell_type": "code",
   "execution_count": 50,
   "id": "89a80cd3",
   "metadata": {},
   "outputs": [
    {
     "data": {
      "text/plain": [
       "0   -1.193122\n",
       "1   -0.774386\n",
       "2   -0.176373\n",
       "3    0.358137\n",
       "4    1.786173\n",
       "5   -0.340862\n",
       "6   -0.432753\n",
       "7    0.706703\n",
       "8   -0.191396\n",
       "9   -0.686058\n",
       "dtype: float64"
      ]
     },
     "execution_count": 50,
     "metadata": {},
     "output_type": "execute_result"
    }
   ],
   "source": [
    "# One more time.\n",
    "\n",
    "ser3 = Series(randn(10))\n",
    "\n",
    "ser3"
   ]
  },
  {
   "cell_type": "code",
   "execution_count": 51,
   "id": "aa26187c",
   "metadata": {},
   "outputs": [
    {
     "data": {
      "text/plain": [
       "0     1.0\n",
       "1     2.0\n",
       "2     7.0\n",
       "3     8.0\n",
       "4    10.0\n",
       "5     5.0\n",
       "6     4.0\n",
       "7     9.0\n",
       "8     6.0\n",
       "9     3.0\n",
       "dtype: float64"
      ]
     },
     "execution_count": 51,
     "metadata": {},
     "output_type": "execute_result"
    }
   ],
   "source": [
    "ser3.rank()"
   ]
  },
  {
   "cell_type": "code",
   "execution_count": 54,
   "id": "a5f69b2b",
   "metadata": {},
   "outputs": [
    {
     "data": {
      "text/plain": [
       "0     1.0\n",
       "1     2.0\n",
       "9     3.0\n",
       "6     4.0\n",
       "5     5.0\n",
       "8     6.0\n",
       "2     7.0\n",
       "3     8.0\n",
       "7     9.0\n",
       "4    10.0\n",
       "dtype: float64"
      ]
     },
     "execution_count": 54,
     "metadata": {},
     "output_type": "execute_result"
    }
   ],
   "source": [
    "ser3 = ser3.sort_values()\n",
    "ser3.rank()"
   ]
  },
  {
   "cell_type": "code",
   "execution_count": 55,
   "id": "bfb232f0",
   "metadata": {},
   "outputs": [
    {
     "data": {
      "text/plain": [
       "0   -1.193122\n",
       "1   -0.774386\n",
       "9   -0.686058\n",
       "6   -0.432753\n",
       "5   -0.340862\n",
       "8   -0.191396\n",
       "2   -0.176373\n",
       "3    0.358137\n",
       "7    0.706703\n",
       "4    1.786173\n",
       "dtype: float64"
      ]
     },
     "execution_count": 55,
     "metadata": {},
     "output_type": "execute_result"
    }
   ],
   "source": [
    "ser3"
   ]
  },
  {
   "cell_type": "code",
   "execution_count": null,
   "id": "c5304adf",
   "metadata": {},
   "outputs": [],
   "source": []
  }
 ],
 "metadata": {
  "kernelspec": {
   "display_name": "Python 3 (ipykernel)",
   "language": "python",
   "name": "python3"
  },
  "language_info": {
   "codemirror_mode": {
    "name": "ipython",
    "version": 3
   },
   "file_extension": ".py",
   "mimetype": "text/x-python",
   "name": "python",
   "nbconvert_exporter": "python",
   "pygments_lexer": "ipython3",
   "version": "3.11.3"
  }
 },
 "nbformat": 4,
 "nbformat_minor": 5
}
