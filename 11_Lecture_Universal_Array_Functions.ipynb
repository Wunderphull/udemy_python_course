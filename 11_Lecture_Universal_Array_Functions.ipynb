{
 "cells": [
  {
   "cell_type": "code",
   "execution_count": 1,
   "id": "d219260f",
   "metadata": {},
   "outputs": [],
   "source": [
    "import numpy as np"
   ]
  },
  {
   "cell_type": "code",
   "execution_count": 3,
   "id": "b73e57cd",
   "metadata": {},
   "outputs": [
    {
     "data": {
      "text/plain": [
       "array([ 0,  1,  2,  3,  4,  5,  6,  7,  8,  9, 10])"
      ]
     },
     "execution_count": 3,
     "metadata": {},
     "output_type": "execute_result"
    }
   ],
   "source": [
    "arr = np.arange(11)\n",
    "arr"
   ]
  },
  {
   "cell_type": "code",
   "execution_count": 5,
   "id": "19e05c17",
   "metadata": {},
   "outputs": [
    {
     "data": {
      "text/plain": [
       "array([0.        , 1.        , 1.41421356, 1.73205081, 2.        ,\n",
       "       2.23606798, 2.44948974, 2.64575131, 2.82842712, 3.        ,\n",
       "       3.16227766])"
      ]
     },
     "execution_count": 5,
     "metadata": {},
     "output_type": "execute_result"
    }
   ],
   "source": [
    "# Take square root\n",
    "np.sqrt(arr)"
   ]
  },
  {
   "cell_type": "code",
   "execution_count": 6,
   "id": "cb9507bc",
   "metadata": {},
   "outputs": [
    {
     "data": {
      "text/plain": [
       "array([1.00000000e+00, 2.71828183e+00, 7.38905610e+00, 2.00855369e+01,\n",
       "       5.45981500e+01, 1.48413159e+02, 4.03428793e+02, 1.09663316e+03,\n",
       "       2.98095799e+03, 8.10308393e+03, 2.20264658e+04])"
      ]
     },
     "execution_count": 6,
     "metadata": {},
     "output_type": "execute_result"
    }
   ],
   "source": [
    "# Take exponential\n",
    "np.exp(arr)"
   ]
  },
  {
   "cell_type": "code",
   "execution_count": 8,
   "id": "cb0c83d2",
   "metadata": {},
   "outputs": [
    {
     "data": {
      "text/plain": [
       "array([ 0.39043372,  1.69555942,  1.20040256,  3.27307453, -1.00471515,\n",
       "        0.31768399, -0.63238672,  1.13058447, -1.01684708,  0.09000418])"
      ]
     },
     "execution_count": 8,
     "metadata": {},
     "output_type": "execute_result"
    }
   ],
   "source": [
    "# Create a random array.\n",
    "arr_ran_A = np.random.randn(10)\n",
    "arr_ran_A"
   ]
  },
  {
   "cell_type": "code",
   "execution_count": 9,
   "id": "6213eefd",
   "metadata": {},
   "outputs": [
    {
     "data": {
      "text/plain": [
       "array([ 0.49684805, -1.25156589,  0.3854366 ,  0.74386157, -0.1573196 ,\n",
       "        0.25491472, -0.36322684, -1.23889585, -0.63401984,  0.42993419])"
      ]
     },
     "execution_count": 9,
     "metadata": {},
     "output_type": "execute_result"
    }
   ],
   "source": [
    "arr_ran_B = np.random.randn(10)\n",
    "arr_ran_B"
   ]
  },
  {
   "cell_type": "code",
   "execution_count": 10,
   "id": "29923ce7",
   "metadata": {},
   "outputs": [],
   "source": [
    "# Binary Functions: functions that use two arrays."
   ]
  },
  {
   "cell_type": "code",
   "execution_count": 12,
   "id": "278a229d",
   "metadata": {},
   "outputs": [
    {
     "data": {
      "text/plain": [
       "array([ 0.88728177,  0.44399353,  1.58583915,  4.0169361 , -1.16203475,\n",
       "        0.57259872, -0.99561356, -0.10831138, -1.65086693,  0.51993837])"
      ]
     },
     "execution_count": 12,
     "metadata": {},
     "output_type": "execute_result"
    }
   ],
   "source": [
    "# Adds arrays.\n",
    "np.add(arr_ran_A,arr_ran_B)"
   ]
  },
  {
   "cell_type": "code",
   "execution_count": 13,
   "id": "fb37d4dc",
   "metadata": {},
   "outputs": [
    {
     "data": {
      "text/plain": [
       "array([ 0.49684805,  1.69555942,  1.20040256,  3.27307453, -0.1573196 ,\n",
       "        0.31768399, -0.36322684,  1.13058447, -0.63401984,  0.42993419])"
      ]
     },
     "execution_count": 13,
     "metadata": {},
     "output_type": "execute_result"
    }
   ],
   "source": [
    "# Finds the maximum difference between two arrays and sets the difference as the value.\n",
    "np.maximum(arr_ran_A,arr_ran_B)"
   ]
  },
  {
   "cell_type": "code",
   "execution_count": 15,
   "id": "9ea2e528",
   "metadata": {},
   "outputs": [
    {
     "data": {
      "text/plain": [
       "array([ 0.39043372, -1.25156589,  0.3854366 ,  0.74386157, -1.00471515,\n",
       "        0.25491472, -0.63238672, -1.23889585, -1.01684708,  0.09000418])"
      ]
     },
     "execution_count": 15,
     "metadata": {},
     "output_type": "execute_result"
    }
   ],
   "source": [
    "# Finds the minimum difference between two arrays and sets the difference as the value.\n",
    "np.minimum(arr_ran_A,arr_ran_B)"
   ]
  },
  {
   "cell_type": "code",
   "execution_count": null,
   "id": "d2e4332f",
   "metadata": {},
   "outputs": [],
   "source": []
  }
 ],
 "metadata": {
  "kernelspec": {
   "display_name": "Python 3 (ipykernel)",
   "language": "python",
   "name": "python3"
  },
  "language_info": {
   "codemirror_mode": {
    "name": "ipython",
    "version": 3
   },
   "file_extension": ".py",
   "mimetype": "text/x-python",
   "name": "python",
   "nbconvert_exporter": "python",
   "pygments_lexer": "ipython3",
   "version": "3.11.3"
  }
 },
 "nbformat": 4,
 "nbformat_minor": 5
}
